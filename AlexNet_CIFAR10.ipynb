{
  "nbformat": 4,
  "nbformat_minor": 0,
  "metadata": {
    "colab": {
      "provenance": [],
      "gpuType": "T4"
    },
    "kernelspec": {
      "name": "python3",
      "display_name": "Python 3"
    },
    "language_info": {
      "name": "python"
    },
    "accelerator": "GPU"
  },
  "cells": [
    {
      "cell_type": "code",
      "execution_count": 2,
      "metadata": {
        "id": "ceDwrJuDAsrE"
      },
      "outputs": [],
      "source": [
        "import os\n",
        "import time\n",
        "import random\n",
        "\n",
        "import numpy as np\n",
        "import pandas as pd\n",
        "\n",
        "import torch\n",
        "import torch.nn as nn\n",
        "import torch.nn.functional as F\n",
        "from torch.utils.data import DataLoader\n",
        "from torch.utils.data.dataset import Subset\n",
        "\n",
        "from torchvision import datasets\n",
        "from torchvision import transforms\n",
        "\n",
        "import matplotlib.pyplot as plt\n",
        "from PIL import Image\n",
        "\n",
        "if torch.cuda.is_available():\n",
        "    torch.backends.cudnn.deterministic = True"
      ]
    },
    {
      "cell_type": "code",
      "source": [
        "def set_all_seeds(seed):\n",
        "    os.environ[\"PL_GLOBAL_SEED\"] = str(seed)\n",
        "    random.seed(seed)\n",
        "    np.random.seed(seed)\n",
        "    torch.manual_seed(seed)\n",
        "    torch.cuda.manual_seed_all(seed)"
      ],
      "metadata": {
        "id": "oMqJjUYGCAEQ"
      },
      "execution_count": 3,
      "outputs": []
    },
    {
      "cell_type": "code",
      "source": [
        "def set_deterministic():\n",
        "    if torch.cuda.is_available():\n",
        "        torch.backends.cudnn.benchmark = False\n",
        "        torch.backends.cudnn.deterministic = True\n",
        "    torch.set_deterministic(True)"
      ],
      "metadata": {
        "id": "w1YLkWHfCadK"
      },
      "execution_count": 4,
      "outputs": []
    },
    {
      "cell_type": "code",
      "source": [
        "#import utility functions\n",
        "\n",
        "import os\n",
        "import sys\n",
        "\n",
        "# Get the current directory\n",
        "current_dir = \"/content/drive/MyDrive/Colab_Notebooks\"\n",
        "\n",
        "# Get the parent directory\n",
        "parent_dir = os.path.dirname(current_dir)\n",
        "\n",
        "# Specify the path to directory B relative to the parent directory\n",
        "CNN_path = os.path.join(parent_dir, \"CNN\")\n",
        "\n",
        "# Insert directory B into the sys.path list\n",
        "sys.path.insert(0, CNN_path)\n",
        "\n",
        "from helper_evaluate import compute_accuracy\n",
        "from helper_train import train_classifier_simple_v1\n",
        "from helper_datasetup import get_dataloaders_cifar10"
      ],
      "metadata": {
        "id": "8vuYVMRBCaiH"
      },
      "execution_count": 5,
      "outputs": []
    },
    {
      "cell_type": "markdown",
      "source": [
        "**Note**: The sys.path list is used by Python to determine the locations it should look in to find modules to import.\n",
        "When you modify sys.path, you're essentially telling Python where to search for modules.\n",
        "\n",
        "Modifying sys.path won't change the directory from which your Python script is executed. It only affects the locations Python searches for modules when you import them."
      ],
      "metadata": {
        "id": "fosHagnBCali"
      }
    },
    {
      "cell_type": "code",
      "source": [
        "current_dir"
      ],
      "metadata": {
        "colab": {
          "base_uri": "https://localhost:8080/",
          "height": 35
        },
        "id": "CM8gsLyHI_62",
        "outputId": "3c7eefc5-41b9-433c-fc75-cc02cef7f6ac"
      },
      "execution_count": 6,
      "outputs": [
        {
          "output_type": "execute_result",
          "data": {
            "text/plain": [
              "'/content/drive/MyDrive/Colab_Notebooks'"
            ],
            "application/vnd.google.colaboratory.intrinsic+json": {
              "type": "string"
            }
          },
          "metadata": {},
          "execution_count": 6
        }
      ]
    },
    {
      "cell_type": "code",
      "source": [
        "parent_dir"
      ],
      "metadata": {
        "colab": {
          "base_uri": "https://localhost:8080/",
          "height": 35
        },
        "id": "4hDOfcsZJrO3",
        "outputId": "5bb2c901-4bf7-4a2a-a6a7-0a8ccc6899b2"
      },
      "execution_count": 7,
      "outputs": [
        {
          "output_type": "execute_result",
          "data": {
            "text/plain": [
              "'/content/drive/MyDrive'"
            ],
            "application/vnd.google.colaboratory.intrinsic+json": {
              "type": "string"
            }
          },
          "metadata": {},
          "execution_count": 7
        }
      ]
    },
    {
      "cell_type": "code",
      "source": [
        "##Settings\n",
        "\n",
        "#Hyperparameters\n",
        "RANDOM_SEED = 1\n",
        "LEARNING_RATE = 0.0001\n",
        "BATCH_SIZE = 256\n",
        "NUM_EPOCHS = 40\n",
        "\n",
        "#Architecture\n",
        "NUM_CLASSES = 10\n",
        "\n",
        "#other\n",
        "DEVICE = \"cuda:0\"\n",
        "\n",
        "set_all_seeds(RANDOM_SEED)\n",
        "\n",
        "#device agnostic code\n",
        "\n",
        "device = \"cuda\" if torch.cuda.is_available() else \"cpu\"\n",
        "device\n",
        "\n",
        "#Determnistic behaviour not yet supported by AdaptiveAVgPool2d\n",
        "#set_deterministic()"
      ],
      "metadata": {
        "id": "_W9I5_0GCaft",
        "colab": {
          "base_uri": "https://localhost:8080/",
          "height": 35
        },
        "outputId": "f115e93e-7666-4584-c42c-f7cc0bbeae53"
      },
      "execution_count": 8,
      "outputs": [
        {
          "output_type": "execute_result",
          "data": {
            "text/plain": [
              "'cuda'"
            ],
            "application/vnd.google.colaboratory.intrinsic+json": {
              "type": "string"
            }
          },
          "metadata": {},
          "execution_count": 8
        }
      ]
    },
    {
      "cell_type": "markdown",
      "source": [
        "##Dataset"
      ],
      "metadata": {
        "id": "FV1mQ6QSJrRK"
      }
    },
    {
      "cell_type": "code",
      "source": [
        "#set random seed\n",
        "set_all_seeds(RANDOM_SEED)\n",
        "\n",
        "#Dataset\n",
        "\n",
        "train_transforms = transforms.Compose([transforms.Resize((70, 70)),\n",
        "                                       transforms.RandomCrop((64, 64)),\n",
        "                                       transforms.ToTensor()])\n",
        "\n",
        "test_transforms = transforms.Compose([transforms.Resize((70, 70)),\n",
        "                                      transforms.CenterCrop((64, 64)),\n",
        "                                      transforms.ToTensor()])\n",
        "\n",
        "train_loader, valid_loader, test_loader = get_dataloaders_cifar10(\n",
        "    batch_size=BATCH_SIZE,\n",
        "    num_workers=2,\n",
        "    train_transforms=train_transforms,\n",
        "    test_transforms=test_transforms,\n",
        "    validation_fraction=0.1\n",
        ")"
      ],
      "metadata": {
        "colab": {
          "base_uri": "https://localhost:8080/"
        },
        "id": "Lll01qBXLjS4",
        "outputId": "a445aba9-3a7f-41bf-8ba6-60d51c4cfbb9"
      },
      "execution_count": 9,
      "outputs": [
        {
          "output_type": "stream",
          "name": "stdout",
          "text": [
            "Downloading https://www.cs.toronto.edu/~kriz/cifar-10-python.tar.gz to data/cifar-10-python.tar.gz\n"
          ]
        },
        {
          "output_type": "stream",
          "name": "stderr",
          "text": [
            "100%|██████████| 170498071/170498071 [00:02<00:00, 73632195.37it/s]\n"
          ]
        },
        {
          "output_type": "stream",
          "name": "stdout",
          "text": [
            "Extracting data/cifar-10-python.tar.gz to data\n"
          ]
        }
      ]
    },
    {
      "cell_type": "code",
      "source": [
        "#Checking the dataset\n",
        "\n",
        "print('Training Set:\\n')\n",
        "for images, labels in train_loader:\n",
        "    print('Image batch dimension:', images.size())\n",
        "    print('Image label dimension:', labels.size())\n",
        "    print(labels[:10])\n",
        "    break\n",
        "\n",
        "#Checking the dataset\n",
        "print('\\nValidation Set:')\n",
        "for images, labels in valid_loader:\n",
        "    print('Image batch dimension:', images.size())\n",
        "    print('Image label dimension:', labels.size())\n",
        "    print(labels[:10])\n",
        "    break\n",
        "\n",
        "#Checking the dataset\n",
        "print('\\nTesting Set:')\n",
        "for images, labels in train_loader:\n",
        "    print('Image batch dimensions:', images.size())\n",
        "    print('Image label dimensions:', labels.size())\n",
        "    print(labels[:10])\n",
        "    break"
      ],
      "metadata": {
        "id": "6PtYIlcjgZmX",
        "colab": {
          "base_uri": "https://localhost:8080/"
        },
        "outputId": "53af5958-5af1-472b-9821-e8b3336ab707"
      },
      "execution_count": 10,
      "outputs": [
        {
          "output_type": "stream",
          "name": "stdout",
          "text": [
            "Training Set:\n",
            "\n"
          ]
        },
        {
          "output_type": "stream",
          "name": "stderr",
          "text": [
            "/usr/lib/python3.10/multiprocessing/popen_fork.py:66: RuntimeWarning: os.fork() was called. os.fork() is incompatible with multithreaded code, and JAX is multithreaded, so this will likely lead to a deadlock.\n",
            "  self.pid = os.fork()\n"
          ]
        },
        {
          "output_type": "stream",
          "name": "stdout",
          "text": [
            "Image batch dimension: torch.Size([256, 3, 64, 64])\n",
            "Image label dimension: torch.Size([256])\n",
            "tensor([0, 2, 3, 5, 4, 8, 9, 6, 9, 7])\n",
            "\n",
            "Validation Set:\n",
            "Image batch dimension: torch.Size([256, 3, 64, 64])\n",
            "Image label dimension: torch.Size([256])\n",
            "tensor([6, 9, 3, 5, 7, 3, 4, 1, 8, 0])\n",
            "\n",
            "Testing Set:\n",
            "Image batch dimensions: torch.Size([256, 3, 64, 64])\n",
            "Image label dimensions: torch.Size([256])\n",
            "tensor([2, 6, 3, 1, 1, 1, 1, 2, 4, 8])\n"
          ]
        }
      ]
    },
    {
      "cell_type": "code",
      "source": [
        "len(train_loader), len(valid_loader), len(test_loader)"
      ],
      "metadata": {
        "colab": {
          "base_uri": "https://localhost:8080/"
        },
        "id": "-V3iIrbtmg6e",
        "outputId": "495c6d4d-933f-4014-c47b-1f20c6b71a1f"
      },
      "execution_count": 11,
      "outputs": [
        {
          "output_type": "execute_result",
          "data": {
            "text/plain": [
              "(175, 20, 40)"
            ]
          },
          "metadata": {},
          "execution_count": 11
        }
      ]
    },
    {
      "cell_type": "markdown",
      "source": [
        "##Model"
      ],
      "metadata": {
        "id": "D1bfxE3lmg9Y"
      }
    },
    {
      "cell_type": "code",
      "source": [
        "class AlexNet(nn.Module):\n",
        "\n",
        "    def __init__(self, num_classes):\n",
        "        super(AlexNet, self).__init__()\n",
        "        self.features = nn.Sequential(\n",
        "            nn.Conv2d(3, 64, kernel_size=11, stride=4, padding=2),\n",
        "            nn.ReLU(inplace=True),\n",
        "            nn.MaxPool2d(kernel_size=3, stride=2),\n",
        "\n",
        "            nn.Conv2d(64, 192, kernel_size=5, padding=2),\n",
        "            nn.ReLU(inplace=True),\n",
        "            nn.MaxPool2d(kernel_size=3, stride=2),\n",
        "\n",
        "            nn.Conv2d(192, 384, kernel_size=3, padding=1),\n",
        "            nn.ReLU(inplace=True),\n",
        "\n",
        "            nn.Conv2d(384, 256, kernel_size=3, padding=1),\n",
        "            nn.ReLU(inplace=True),\n",
        "\n",
        "            nn.Conv2d(256, 256, kernel_size=3, padding=1),\n",
        "            nn.ReLU(inplace=True),\n",
        "            nn.MaxPool2d(kernel_size=3, stride=2),\n",
        "        )\n",
        "        self.avgpool = nn.AdaptiveAvgPool2d((6, 6))\n",
        "        self.classifier = nn.Sequential(\n",
        "            nn.Dropout(0.5),\n",
        "            nn.Linear(256 * 6 * 6, 4096),\n",
        "            nn.ReLU(inplace=True),\n",
        "            nn.Dropout(0.5),\n",
        "            nn.Linear(4096, 4096),\n",
        "            nn.ReLU(inplace=True),\n",
        "            nn.Linear(4096, num_classes)\n",
        "        )\n",
        "\n",
        "    def forward(self, x):\n",
        "        x = self.features(x)\n",
        "        x = self.avgpool(x)\n",
        "        x = x.view(x.size(0), 256 * 6 * 6)\n",
        "        logits = self.classifier(x)\n",
        "        probas = F.softmax(logits, dim=1)\n",
        "        return logits"
      ],
      "metadata": {
        "id": "tZrWWZ5jmg_-"
      },
      "execution_count": 12,
      "outputs": []
    },
    {
      "cell_type": "code",
      "source": [
        "torch.manual_seed(RANDOM_SEED)\n",
        "\n",
        "model = AlexNet(NUM_CLASSES)\n",
        "model.to(device)\n",
        "\n",
        "optimizer = torch.optim.Adam(model.parameters(), lr=LEARNING_RATE)"
      ],
      "metadata": {
        "id": "foRvs8nSmhDT"
      },
      "execution_count": 13,
      "outputs": []
    },
    {
      "cell_type": "code",
      "source": [
        "log_dict  = train_classifier_simple_v1(num_epochs=NUM_EPOCHS,\n",
        "                                      model=model,\n",
        "                                      optimizer=optimizer,\n",
        "                                      device=device,\n",
        "                                      train_loader=train_loader,\n",
        "                                      valid_loader=valid_loader,\n",
        "                                      logging_interval=50)"
      ],
      "metadata": {
        "colab": {
          "base_uri": "https://localhost:8080/"
        },
        "id": "7vtBiuVJpvXh",
        "outputId": "a08bba10-d0d5-41c3-a7dd-9ae43b879015"
      },
      "execution_count": 16,
      "outputs": [
        {
          "metadata": {
            "tags": null
          },
          "name": "stderr",
          "output_type": "stream",
          "text": [
            "/usr/lib/python3.10/multiprocessing/popen_fork.py:66: RuntimeWarning: os.fork() was called. os.fork() is incompatible with multithreaded code, and JAX is multithreaded, so this will likely lead to a deadlock.\n",
            "  self.pid = os.fork()\n"
          ]
        },
        {
          "metadata": {
            "tags": null
          },
          "name": "stdout",
          "output_type": "stream",
          "text": [
            "Epoch: 001/040 | Batch 0000/0175 | Loss: 1.1151\n",
            "Epoch: 001/040 | Batch 0050/0175 | Loss: 1.1668\n",
            "Epoch: 001/040 | Batch 0100/0175 | Loss: 1.2453\n",
            "Epoch: 001/040 | Batch 0150/0175 | Loss: 1.0556\n"
          ]
        },
        {
          "metadata": {
            "tags": null
          },
          "name": "stderr",
          "output_type": "stream",
          "text": [
            "/usr/lib/python3.10/multiprocessing/popen_fork.py:66: RuntimeWarning: os.fork() was called. os.fork() is incompatible with multithreaded code, and JAX is multithreaded, so this will likely lead to a deadlock.\n",
            "  self.pid = os.fork()\n"
          ]
        },
        {
          "output_type": "stream",
          "name": "stdout",
          "text": [
            "***Epoch: 001/040 | Train. Acc.: 62.542% | Loss: 1.031\n",
            "***Epoch: 001/040 | Valid. Acc.: 61.360% | Loss: 1.058\n",
            "Time elapsed: 1.01 min\n",
            "Epoch: 002/040 | Batch 0000/0175 | Loss: 1.0498\n",
            "Epoch: 002/040 | Batch 0050/0175 | Loss: 0.9778\n",
            "Epoch: 002/040 | Batch 0100/0175 | Loss: 1.0834\n",
            "Epoch: 002/040 | Batch 0150/0175 | Loss: 1.0773\n",
            "***Epoch: 002/040 | Train. Acc.: 65.500% | Loss: 0.959\n",
            "***Epoch: 002/040 | Valid. Acc.: 64.100% | Loss: 1.011\n",
            "Time elapsed: 2.13 min\n",
            "Epoch: 003/040 | Batch 0000/0175 | Loss: 0.8500\n",
            "Epoch: 003/040 | Batch 0050/0175 | Loss: 0.9398\n",
            "Epoch: 003/040 | Batch 0100/0175 | Loss: 0.8604\n",
            "Epoch: 003/040 | Batch 0150/0175 | Loss: 0.9285\n",
            "***Epoch: 003/040 | Train. Acc.: 68.411% | Loss: 0.878\n",
            "***Epoch: 003/040 | Valid. Acc.: 66.420% | Loss: 0.945\n",
            "Time elapsed: 3.14 min\n",
            "Epoch: 004/040 | Batch 0000/0175 | Loss: 0.8681\n",
            "Epoch: 004/040 | Batch 0050/0175 | Loss: 0.9904\n",
            "Epoch: 004/040 | Batch 0100/0175 | Loss: 0.9436\n",
            "Epoch: 004/040 | Batch 0150/0175 | Loss: 0.9263\n",
            "***Epoch: 004/040 | Train. Acc.: 70.413% | Loss: 0.832\n",
            "***Epoch: 004/040 | Valid. Acc.: 67.560% | Loss: 0.920\n",
            "Time elapsed: 4.17 min\n",
            "Epoch: 005/040 | Batch 0000/0175 | Loss: 0.6643\n",
            "Epoch: 005/040 | Batch 0050/0175 | Loss: 0.9274\n",
            "Epoch: 005/040 | Batch 0100/0175 | Loss: 0.8768\n",
            "Epoch: 005/040 | Batch 0150/0175 | Loss: 0.8878\n",
            "***Epoch: 005/040 | Train. Acc.: 70.692% | Loss: 0.812\n",
            "***Epoch: 005/040 | Valid. Acc.: 67.280% | Loss: 0.929\n",
            "Time elapsed: 5.19 min\n",
            "Epoch: 006/040 | Batch 0000/0175 | Loss: 0.8281\n",
            "Epoch: 006/040 | Batch 0050/0175 | Loss: 0.7892\n",
            "Epoch: 006/040 | Batch 0100/0175 | Loss: 1.0399\n",
            "Epoch: 006/040 | Batch 0150/0175 | Loss: 0.7620\n",
            "***Epoch: 006/040 | Train. Acc.: 73.272% | Loss: 0.748\n",
            "***Epoch: 006/040 | Valid. Acc.: 68.480% | Loss: 0.883\n",
            "Time elapsed: 6.23 min\n",
            "Epoch: 007/040 | Batch 0000/0175 | Loss: 0.7863\n",
            "Epoch: 007/040 | Batch 0050/0175 | Loss: 0.6649\n",
            "Epoch: 007/040 | Batch 0100/0175 | Loss: 0.7714\n",
            "Epoch: 007/040 | Batch 0150/0175 | Loss: 0.8615\n",
            "***Epoch: 007/040 | Train. Acc.: 73.103% | Loss: 0.754\n",
            "***Epoch: 007/040 | Valid. Acc.: 67.540% | Loss: 0.905\n",
            "Time elapsed: 7.24 min\n",
            "Epoch: 008/040 | Batch 0000/0175 | Loss: 0.8158\n",
            "Epoch: 008/040 | Batch 0050/0175 | Loss: 0.7289\n",
            "Epoch: 008/040 | Batch 0100/0175 | Loss: 0.8916\n",
            "Epoch: 008/040 | Batch 0150/0175 | Loss: 0.7439\n",
            "***Epoch: 008/040 | Train. Acc.: 75.520% | Loss: 0.693\n",
            "***Epoch: 008/040 | Valid. Acc.: 69.580% | Loss: 0.876\n",
            "Time elapsed: 8.26 min\n",
            "Epoch: 009/040 | Batch 0000/0175 | Loss: 0.7504\n",
            "Epoch: 009/040 | Batch 0050/0175 | Loss: 0.7153\n",
            "Epoch: 009/040 | Batch 0100/0175 | Loss: 0.7919\n",
            "Epoch: 009/040 | Batch 0150/0175 | Loss: 0.7832\n",
            "***Epoch: 009/040 | Train. Acc.: 77.013% | Loss: 0.658\n",
            "***Epoch: 009/040 | Valid. Acc.: 70.540% | Loss: 0.851\n",
            "Time elapsed: 9.26 min\n",
            "Epoch: 010/040 | Batch 0000/0175 | Loss: 0.6785\n",
            "Epoch: 010/040 | Batch 0050/0175 | Loss: 0.6127\n",
            "Epoch: 010/040 | Batch 0100/0175 | Loss: 0.6402\n",
            "Epoch: 010/040 | Batch 0150/0175 | Loss: 0.6218\n",
            "***Epoch: 010/040 | Train. Acc.: 79.815% | Loss: 0.575\n",
            "***Epoch: 010/040 | Valid. Acc.: 71.520% | Loss: 0.827\n",
            "Time elapsed: 10.30 min\n",
            "Epoch: 011/040 | Batch 0000/0175 | Loss: 0.5862\n",
            "Epoch: 011/040 | Batch 0050/0175 | Loss: 0.6217\n",
            "Epoch: 011/040 | Batch 0100/0175 | Loss: 0.5522\n",
            "Epoch: 011/040 | Batch 0150/0175 | Loss: 0.6051\n",
            "***Epoch: 011/040 | Train. Acc.: 80.721% | Loss: 0.560\n",
            "***Epoch: 011/040 | Valid. Acc.: 71.780% | Loss: 0.836\n",
            "Time elapsed: 11.32 min\n",
            "Epoch: 012/040 | Batch 0000/0175 | Loss: 0.5565\n",
            "Epoch: 012/040 | Batch 0050/0175 | Loss: 0.6123\n",
            "Epoch: 012/040 | Batch 0100/0175 | Loss: 0.6715\n",
            "Epoch: 012/040 | Batch 0150/0175 | Loss: 0.7382\n",
            "***Epoch: 012/040 | Train. Acc.: 82.683% | Loss: 0.503\n",
            "***Epoch: 012/040 | Valid. Acc.: 72.140% | Loss: 0.827\n",
            "Time elapsed: 12.32 min\n",
            "Epoch: 013/040 | Batch 0000/0175 | Loss: 0.5971\n",
            "Epoch: 013/040 | Batch 0050/0175 | Loss: 0.5933\n",
            "Epoch: 013/040 | Batch 0100/0175 | Loss: 0.5789\n",
            "Epoch: 013/040 | Batch 0150/0175 | Loss: 0.5759\n",
            "***Epoch: 013/040 | Train. Acc.: 82.900% | Loss: 0.479\n",
            "***Epoch: 013/040 | Valid. Acc.: 72.600% | Loss: 0.848\n",
            "Time elapsed: 13.33 min\n",
            "Epoch: 014/040 | Batch 0000/0175 | Loss: 0.3981\n",
            "Epoch: 014/040 | Batch 0050/0175 | Loss: 0.4317\n",
            "Epoch: 014/040 | Batch 0100/0175 | Loss: 0.5227\n",
            "Epoch: 014/040 | Batch 0150/0175 | Loss: 0.6163\n",
            "***Epoch: 014/040 | Train. Acc.: 83.864% | Loss: 0.461\n",
            "***Epoch: 014/040 | Valid. Acc.: 71.980% | Loss: 0.864\n",
            "Time elapsed: 14.36 min\n",
            "Epoch: 015/040 | Batch 0000/0175 | Loss: 0.4874\n",
            "Epoch: 015/040 | Batch 0050/0175 | Loss: 0.4090\n",
            "Epoch: 015/040 | Batch 0100/0175 | Loss: 0.5456\n",
            "Epoch: 015/040 | Batch 0150/0175 | Loss: 0.5025\n",
            "***Epoch: 015/040 | Train. Acc.: 85.690% | Loss: 0.410\n",
            "***Epoch: 015/040 | Valid. Acc.: 72.640% | Loss: 0.864\n",
            "Time elapsed: 15.38 min\n",
            "Epoch: 016/040 | Batch 0000/0175 | Loss: 0.4388\n",
            "Epoch: 016/040 | Batch 0050/0175 | Loss: 0.4659\n",
            "Epoch: 016/040 | Batch 0100/0175 | Loss: 0.4830\n",
            "Epoch: 016/040 | Batch 0150/0175 | Loss: 0.4822\n",
            "***Epoch: 016/040 | Train. Acc.: 86.292% | Loss: 0.399\n",
            "***Epoch: 016/040 | Valid. Acc.: 72.240% | Loss: 0.863\n",
            "Time elapsed: 16.39 min\n",
            "Epoch: 017/040 | Batch 0000/0175 | Loss: 0.4932\n",
            "Epoch: 017/040 | Batch 0050/0175 | Loss: 0.4428\n",
            "Epoch: 017/040 | Batch 0100/0175 | Loss: 0.5949\n",
            "Epoch: 017/040 | Batch 0150/0175 | Loss: 0.3711\n",
            "***Epoch: 017/040 | Train. Acc.: 87.225% | Loss: 0.370\n",
            "***Epoch: 017/040 | Valid. Acc.: 72.540% | Loss: 0.896\n",
            "Time elapsed: 17.43 min\n",
            "Epoch: 018/040 | Batch 0000/0175 | Loss: 0.3957\n",
            "Epoch: 018/040 | Batch 0050/0175 | Loss: 0.3498\n",
            "Epoch: 018/040 | Batch 0100/0175 | Loss: 0.3187\n",
            "Epoch: 018/040 | Batch 0150/0175 | Loss: 0.4425\n",
            "***Epoch: 018/040 | Train. Acc.: 88.000% | Loss: 0.348\n",
            "***Epoch: 018/040 | Valid. Acc.: 72.140% | Loss: 0.930\n",
            "Time elapsed: 18.44 min\n",
            "Epoch: 019/040 | Batch 0000/0175 | Loss: 0.4409\n",
            "Epoch: 019/040 | Batch 0050/0175 | Loss: 0.2838\n",
            "Epoch: 019/040 | Batch 0100/0175 | Loss: 0.3573\n",
            "Epoch: 019/040 | Batch 0150/0175 | Loss: 0.3967\n",
            "***Epoch: 019/040 | Train. Acc.: 90.132% | Loss: 0.287\n",
            "***Epoch: 019/040 | Valid. Acc.: 72.800% | Loss: 0.896\n",
            "Time elapsed: 19.44 min\n",
            "Epoch: 020/040 | Batch 0000/0175 | Loss: 0.3156\n",
            "Epoch: 020/040 | Batch 0050/0175 | Loss: 0.3507\n",
            "Epoch: 020/040 | Batch 0100/0175 | Loss: 0.3889\n",
            "Epoch: 020/040 | Batch 0150/0175 | Loss: 0.2771\n",
            "***Epoch: 020/040 | Train. Acc.: 90.853% | Loss: 0.260\n",
            "***Epoch: 020/040 | Valid. Acc.: 73.160% | Loss: 0.951\n",
            "Time elapsed: 20.45 min\n",
            "Epoch: 021/040 | Batch 0000/0175 | Loss: 0.2356\n",
            "Epoch: 021/040 | Batch 0050/0175 | Loss: 0.2455\n",
            "Epoch: 021/040 | Batch 0100/0175 | Loss: 0.3088\n",
            "Epoch: 021/040 | Batch 0150/0175 | Loss: 0.2949\n",
            "***Epoch: 021/040 | Train. Acc.: 90.529% | Loss: 0.267\n",
            "***Epoch: 021/040 | Valid. Acc.: 72.400% | Loss: 0.976\n",
            "Time elapsed: 21.48 min\n",
            "Epoch: 022/040 | Batch 0000/0175 | Loss: 0.2757\n",
            "Epoch: 022/040 | Batch 0050/0175 | Loss: 0.2469\n",
            "Epoch: 022/040 | Batch 0100/0175 | Loss: 0.2965\n",
            "Epoch: 022/040 | Batch 0150/0175 | Loss: 0.2708\n",
            "***Epoch: 022/040 | Train. Acc.: 90.900% | Loss: 0.257\n",
            "***Epoch: 022/040 | Valid. Acc.: 72.700% | Loss: 1.028\n",
            "Time elapsed: 22.51 min\n",
            "Epoch: 023/040 | Batch 0000/0175 | Loss: 0.2336\n",
            "Epoch: 023/040 | Batch 0050/0175 | Loss: 0.2392\n",
            "Epoch: 023/040 | Batch 0100/0175 | Loss: 0.1968\n",
            "Epoch: 023/040 | Batch 0150/0175 | Loss: 0.2141\n",
            "***Epoch: 023/040 | Train. Acc.: 92.290% | Loss: 0.222\n",
            "***Epoch: 023/040 | Valid. Acc.: 72.760% | Loss: 0.979\n",
            "Time elapsed: 23.52 min\n",
            "Epoch: 024/040 | Batch 0000/0175 | Loss: 0.2173\n",
            "Epoch: 024/040 | Batch 0050/0175 | Loss: 0.2326\n",
            "Epoch: 024/040 | Batch 0100/0175 | Loss: 0.2579\n",
            "Epoch: 024/040 | Batch 0150/0175 | Loss: 0.2326\n",
            "***Epoch: 024/040 | Train. Acc.: 93.509% | Loss: 0.188\n",
            "***Epoch: 024/040 | Valid. Acc.: 73.560% | Loss: 0.985\n",
            "Time elapsed: 24.55 min\n",
            "Epoch: 025/040 | Batch 0000/0175 | Loss: 0.2144\n",
            "Epoch: 025/040 | Batch 0050/0175 | Loss: 0.2242\n",
            "Epoch: 025/040 | Batch 0100/0175 | Loss: 0.2268\n",
            "Epoch: 025/040 | Batch 0150/0175 | Loss: 0.2648\n",
            "***Epoch: 025/040 | Train. Acc.: 93.975% | Loss: 0.179\n",
            "***Epoch: 025/040 | Valid. Acc.: 72.800% | Loss: 1.022\n",
            "Time elapsed: 25.60 min\n",
            "Epoch: 026/040 | Batch 0000/0175 | Loss: 0.1503\n",
            "Epoch: 026/040 | Batch 0050/0175 | Loss: 0.1619\n",
            "Epoch: 026/040 | Batch 0100/0175 | Loss: 0.2283\n",
            "Epoch: 026/040 | Batch 0150/0175 | Loss: 0.2660\n",
            "***Epoch: 026/040 | Train. Acc.: 94.946% | Loss: 0.154\n",
            "***Epoch: 026/040 | Valid. Acc.: 73.120% | Loss: 1.006\n",
            "Time elapsed: 26.62 min\n",
            "Epoch: 027/040 | Batch 0000/0175 | Loss: 0.1549\n",
            "Epoch: 027/040 | Batch 0050/0175 | Loss: 0.2147\n",
            "Epoch: 027/040 | Batch 0100/0175 | Loss: 0.1727\n",
            "Epoch: 027/040 | Batch 0150/0175 | Loss: 0.1657\n",
            "***Epoch: 027/040 | Train. Acc.: 94.636% | Loss: 0.156\n",
            "***Epoch: 027/040 | Valid. Acc.: 73.180% | Loss: 1.007\n",
            "Time elapsed: 27.65 min\n",
            "Epoch: 028/040 | Batch 0000/0175 | Loss: 0.1749\n",
            "Epoch: 028/040 | Batch 0050/0175 | Loss: 0.1140\n",
            "Epoch: 028/040 | Batch 0100/0175 | Loss: 0.1470\n",
            "Epoch: 028/040 | Batch 0150/0175 | Loss: 0.2416\n",
            "***Epoch: 028/040 | Train. Acc.: 95.004% | Loss: 0.138\n",
            "***Epoch: 028/040 | Valid. Acc.: 73.140% | Loss: 1.118\n",
            "Time elapsed: 28.69 min\n",
            "Epoch: 029/040 | Batch 0000/0175 | Loss: 0.1359\n",
            "Epoch: 029/040 | Batch 0050/0175 | Loss: 0.1155\n",
            "Epoch: 029/040 | Batch 0100/0175 | Loss: 0.1339\n",
            "Epoch: 029/040 | Batch 0150/0175 | Loss: 0.1491\n",
            "***Epoch: 029/040 | Train. Acc.: 95.429% | Loss: 0.133\n",
            "***Epoch: 029/040 | Valid. Acc.: 73.640% | Loss: 1.113\n",
            "Time elapsed: 29.73 min\n",
            "Epoch: 030/040 | Batch 0000/0175 | Loss: 0.1349\n",
            "Epoch: 030/040 | Batch 0050/0175 | Loss: 0.1913\n",
            "Epoch: 030/040 | Batch 0100/0175 | Loss: 0.1094\n",
            "Epoch: 030/040 | Batch 0150/0175 | Loss: 0.2031\n",
            "***Epoch: 030/040 | Train. Acc.: 95.196% | Loss: 0.138\n",
            "***Epoch: 030/040 | Valid. Acc.: 72.580% | Loss: 1.117\n",
            "Time elapsed: 30.78 min\n",
            "Epoch: 031/040 | Batch 0000/0175 | Loss: 0.1484\n",
            "Epoch: 031/040 | Batch 0050/0175 | Loss: 0.2095\n",
            "Epoch: 031/040 | Batch 0100/0175 | Loss: 0.1406\n",
            "Epoch: 031/040 | Batch 0150/0175 | Loss: 0.1516\n",
            "***Epoch: 031/040 | Train. Acc.: 96.464% | Loss: 0.105\n",
            "***Epoch: 031/040 | Valid. Acc.: 72.840% | Loss: 1.167\n",
            "Time elapsed: 31.81 min\n",
            "Epoch: 032/040 | Batch 0000/0175 | Loss: 0.0688\n",
            "Epoch: 032/040 | Batch 0050/0175 | Loss: 0.1683\n",
            "Epoch: 032/040 | Batch 0100/0175 | Loss: 0.1324\n",
            "Epoch: 032/040 | Batch 0150/0175 | Loss: 0.1395\n",
            "***Epoch: 032/040 | Train. Acc.: 95.592% | Loss: 0.127\n",
            "***Epoch: 032/040 | Valid. Acc.: 72.480% | Loss: 1.197\n",
            "Time elapsed: 32.87 min\n",
            "Epoch: 033/040 | Batch 0000/0175 | Loss: 0.1772\n",
            "Epoch: 033/040 | Batch 0050/0175 | Loss: 0.0933\n",
            "Epoch: 033/040 | Batch 0100/0175 | Loss: 0.1253\n",
            "Epoch: 033/040 | Batch 0150/0175 | Loss: 0.1707\n",
            "***Epoch: 033/040 | Train. Acc.: 96.864% | Loss: 0.094\n",
            "***Epoch: 033/040 | Valid. Acc.: 73.240% | Loss: 1.190\n",
            "Time elapsed: 33.91 min\n",
            "Epoch: 034/040 | Batch 0000/0175 | Loss: 0.1007\n",
            "Epoch: 034/040 | Batch 0050/0175 | Loss: 0.1122\n",
            "Epoch: 034/040 | Batch 0100/0175 | Loss: 0.1331\n",
            "Epoch: 034/040 | Batch 0150/0175 | Loss: 0.0991\n",
            "***Epoch: 034/040 | Train. Acc.: 95.614% | Loss: 0.128\n",
            "***Epoch: 034/040 | Valid. Acc.: 73.140% | Loss: 1.245\n",
            "Time elapsed: 34.94 min\n",
            "Epoch: 035/040 | Batch 0000/0175 | Loss: 0.1286\n",
            "Epoch: 035/040 | Batch 0050/0175 | Loss: 0.0633\n",
            "Epoch: 035/040 | Batch 0100/0175 | Loss: 0.0913\n",
            "Epoch: 035/040 | Batch 0150/0175 | Loss: 0.1167\n",
            "***Epoch: 035/040 | Train. Acc.: 97.312% | Loss: 0.081\n",
            "***Epoch: 035/040 | Valid. Acc.: 73.440% | Loss: 1.198\n",
            "Time elapsed: 35.98 min\n",
            "Epoch: 036/040 | Batch 0000/0175 | Loss: 0.0538\n",
            "Epoch: 036/040 | Batch 0050/0175 | Loss: 0.0994\n",
            "Epoch: 036/040 | Batch 0100/0175 | Loss: 0.0897\n",
            "Epoch: 036/040 | Batch 0150/0175 | Loss: 0.1344\n",
            "***Epoch: 036/040 | Train. Acc.: 96.225% | Loss: 0.109\n",
            "***Epoch: 036/040 | Valid. Acc.: 73.420% | Loss: 1.233\n",
            "Time elapsed: 37.06 min\n",
            "Epoch: 037/040 | Batch 0000/0175 | Loss: 0.0881\n",
            "Epoch: 037/040 | Batch 0050/0175 | Loss: 0.0550\n",
            "Epoch: 037/040 | Batch 0100/0175 | Loss: 0.1220\n",
            "Epoch: 037/040 | Batch 0150/0175 | Loss: 0.2235\n",
            "***Epoch: 037/040 | Train. Acc.: 96.518% | Loss: 0.095\n",
            "***Epoch: 037/040 | Valid. Acc.: 73.280% | Loss: 1.207\n",
            "Time elapsed: 38.10 min\n",
            "Epoch: 038/040 | Batch 0000/0175 | Loss: 0.1179\n",
            "Epoch: 038/040 | Batch 0050/0175 | Loss: 0.0922\n",
            "Epoch: 038/040 | Batch 0100/0175 | Loss: 0.0706\n",
            "Epoch: 038/040 | Batch 0150/0175 | Loss: 0.1164\n",
            "***Epoch: 038/040 | Train. Acc.: 97.074% | Loss: 0.084\n",
            "***Epoch: 038/040 | Valid. Acc.: 73.780% | Loss: 1.237\n",
            "Time elapsed: 39.14 min\n",
            "Epoch: 039/040 | Batch 0000/0175 | Loss: 0.0583\n",
            "Epoch: 039/040 | Batch 0050/0175 | Loss: 0.0678\n",
            "Epoch: 039/040 | Batch 0100/0175 | Loss: 0.1125\n",
            "Epoch: 039/040 | Batch 0150/0175 | Loss: 0.0769\n",
            "***Epoch: 039/040 | Train. Acc.: 97.951% | Loss: 0.061\n",
            "***Epoch: 039/040 | Valid. Acc.: 73.780% | Loss: 1.225\n",
            "Time elapsed: 40.20 min\n",
            "Epoch: 040/040 | Batch 0000/0175 | Loss: 0.0999\n",
            "Epoch: 040/040 | Batch 0050/0175 | Loss: 0.0636\n",
            "Epoch: 040/040 | Batch 0100/0175 | Loss: 0.0933\n",
            "Epoch: 040/040 | Batch 0150/0175 | Loss: 0.0931\n",
            "***Epoch: 040/040 | Train. Acc.: 97.509% | Loss: 0.072\n",
            "***Epoch: 040/040 | Valid. Acc.: 73.960% | Loss: 1.253\n",
            "Time elapsed: 41.26 min\n",
            "Total Training Time: 41.26 min\n"
          ]
        }
      ]
    },
    {
      "cell_type": "code",
      "source": [
        "from typing import Dict, List\n",
        "\n",
        "def plot_loss_curves(results: Dict[str, List[float]]):\n",
        "    \"\"\"Plots training curves of a log dict dictionary.\n",
        "\n",
        "    Args:\n",
        "        results {dict}: dictionary containing list of values, e.g.\n",
        "            {'train_loss_per_batch': [],\n",
        "             'train_acc_per_epoch': [],\n",
        "             'train_loss_per_epoch': [],\n",
        "             'valid_acc_per_epoch': [],\n",
        "             'valid_loss_per_epoch': []}\n",
        "    \"\"\"\n",
        "\n",
        "    # Get the loss values of the log dict dictionary (training and test)\n",
        "    train_loss = log_dict['train_loss_per_epoch']\n",
        "    test_loss = log_dict['valid_loss_per_epoch']\n",
        "\n",
        "    # Get the accuracy values of the results dictionary ( training and test)\n",
        "    train_accuracy = log_dict['train_acc_per_epoch']\n",
        "    test_accuracy = log_dict['valid_acc_per_epoch']\n",
        "\n",
        "    # Figure out how many epochs there were\n",
        "    epochs = range(len(log_dict['train_loss_per_epoch']))\n",
        "\n",
        "    #setup a plot\n",
        "    plt.figure(figsize=(15, 7))\n",
        "\n",
        "    # Plot loss\n",
        "    plt.subplot(1, 2, 1)\n",
        "    plt.plot(epochs, train_loss, label='train_loss')\n",
        "    plt.plot(epochs, test_loss, label='test_loss')\n",
        "    plt.title('Loss')\n",
        "    plt.xlabel('Epochs')\n",
        "    plt.legend()\n",
        "\n",
        "    # Plot accuracy\n",
        "    plt.subplot(1, 2, 2)\n",
        "    plt.plot(epochs, train_accuracy, label='train_accuracy')\n",
        "    plt.plot(epochs, test_accuracy, label='test_accuracy')\n",
        "    plt.title('accuracy')\n",
        "    plt.xlabel('Epochs')\n",
        "    plt.legend();\n"
      ],
      "metadata": {
        "id": "0VyjqQgTxDp7"
      },
      "execution_count": 19,
      "outputs": []
    },
    {
      "cell_type": "code",
      "source": [
        "plot_loss_curves(log_dict)"
      ],
      "metadata": {
        "colab": {
          "base_uri": "https://localhost:8080/",
          "height": 548
        },
        "id": "qQD_Gdi8yKCp",
        "outputId": "99a8027d-d2c9-47a7-a4d0-6fa7aa670a1e"
      },
      "execution_count": 20,
      "outputs": [
        {
          "output_type": "display_data",
          "data": {
            "text/plain": [
              "<Figure size 1500x700 with 2 Axes>"
            ],
            "image/png": "[encoded data removed]"
          },
          "metadata": {}
        }
      ]
    },
    {
      "cell_type": "markdown",
      "source": [
        "Challenge:\n",
        "\n",
        "\n",
        "Overfitting: This occurs when the model memorizes the training data too well and doesn't generalize well to unseen data. It can lead to a significant gap between training and validation loss curves.\n",
        "\n",
        "Solutions:\n",
        "Use techniques like dropout, regularization (e.g., L1/L2 weight decay), data augmentation, or early stopping to prevent overfitting.\n",
        "Increase the complexity of your training dataset (e.g., by adding more diverse examples)."
      ],
      "metadata": {
        "id": "_554kyQd5KFk"
      }
    },
    {
      "cell_type": "code",
      "source": [],
      "metadata": {
        "id": "jx9nusmU5KIE"
      },
      "execution_count": null,
      "outputs": []
    },
    {
      "cell_type": "code",
      "source": [],
      "metadata": {
        "id": "19cE0_Ym5KLX"
      },
      "execution_count": null,
      "outputs": []
    }
  ]
}