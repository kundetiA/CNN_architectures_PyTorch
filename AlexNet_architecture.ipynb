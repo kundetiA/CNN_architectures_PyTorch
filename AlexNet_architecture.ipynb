{
  "nbformat": 4,
  "nbformat_minor": 0,
  "metadata": {
    "colab": {
      "provenance": []
    },
    "kernelspec": {
      "name": "python3",
      "display_name": "Python 3"
    },
    "language_info": {
      "name": "python"
    }
  },
  "cells": [
    {
      "cell_type": "code",
      "execution_count": null,
      "metadata": {
        "id": "B_ltlqtllMBk"
      },
      "outputs": [],
      "source": [
        "\"\"\"\n",
        "Implementation of AlexNet, from paper\n",
        "\"ImageNet Classification with Deep Convolutional Neural Networks\" by Alex Krizhevsky et al.\n",
        "\n",
        "See: https://papers.nips.cc/paper/4824-imagenet-classification-with-deep-convolutional-neural-networks.pdf\n",
        "\"\"\"\n",
        "\n",
        "#Key features:\n",
        "\n",
        "'''\n",
        "\n",
        "First 5 layers are Convolutional layers, out of which first 2 and last layer will be followed by MaxPool layer.\n",
        "last 3 are fc's.\n",
        "input size should be : (b x 3 x 227 x 227)\n",
        "        # The image in the original paper states that width and height are 224 pixels, but\n",
        "        # the dimensions after first convolution layer do not lead to 55 x 55.\n",
        "softmax activation function applied to final lyer , logits to pred_probs to pred labels\n",
        "Response Normalization layers applies after only to 1st and 2nd Conv layers\n",
        "Follow MaxPooling layer after Response Normalization layers and also after the 5th Conv layer\n",
        "\n",
        "'''"
      ]
    },
    {
      "cell_type": "code",
      "source": [
        "import torch\n",
        "from torch import nn\n",
        "\n",
        "class AlexNet(nn.Module):\n",
        "  \"\"\"\n",
        "  Convolutional Neural Network model consisting of layers proposed by Alexnet paper\n",
        "  \"\"\"\n",
        "  def __init__(self, num_classes=1000):\n",
        "    \"\"\"\n",
        "    Define and allocate layers for this neural net.\n",
        "\n",
        "    Args:\n",
        "        num_classes (int): number of classes predicted by model\n",
        "    \"\"\"\n",
        "    super().__init__()\n",
        "    self.net = nn.Sequential(\n",
        "        nn.Conv2d(in_channels=3, out_channels=96, kernel_size=11, stride=4), #(b x 96 x 55 x 55)\n",
        "        nn.ReLU(),\n",
        "        nn.LocalResponseNorm(size=5, alpha=0.0001, beta=0.75, k=2), #section 3.3\n",
        "        nn.MaxPool2d(kernel_size=3, stride=2),  # (b X 96 x 27 x 27)\n",
        "        nn.Conv2d(96, 256, 5, padding=2), # (b x 256 x 27 x 27)\n",
        "        nn.ReLU(),\n",
        "        nn.LocalResponseNorm(size=5, alpha=0.0001, beta=0.75, k=2),\n",
        "        nn.MaxPool2d(kernel_size=3, stride=2), #(b x 384 x 13 x 13 )\n",
        "        nn.Conv2d(256, 384, 3, padding=1), #(b x 384 x 13 x 13)\n",
        "        nn.ReLU(),\n",
        "        nn.Conv2d(384, 384, 3, padding=1), #(b x 384 x 13 x 13)\n",
        "        nn.ReLU(),\n",
        "        nn.Conv2d(384, 256, 3, padding=1), #(b x 256 x 13 x 13)\n",
        "        nn.ReLU(),\n",
        "        nn.MaxPool2d(kernel_size=3, stride=2), #(b x 256 x 6 x 6)\n",
        "    )\n",
        "    #classifier is just a name for linear layers # linear layers + non linearity : relu = fc's\n",
        "    self.classifier = nn.Sequential(\n",
        "        nn.Dropout(p=0.5, inplace=True),\n",
        "        nn.Linear(in_features=(256 * 6 * 6), out_features=4096),\n",
        "        nn.ReLU(),\n",
        "        nn.Dropout(p=0.5, inplace=True),\n",
        "        nn.Linear(in_features=4096, out_features=4096),\n",
        "        nn.ReLU(),\n",
        "        nn.Linear(in_features=4096, out_features=num_classes),\n",
        "    )\n",
        "    self.init_bias() #initialise bias\n",
        "\n",
        "  def init_bias(self):\n",
        "    for layer in self.net:\n",
        "      if isinstance(layer, nn.Conv2d):\n",
        "        nn.init.normal_(layer.weight, mean=0, std=0.01)\n",
        "        nn.init.constant_(layer.bias, 0)\n",
        "      #original paper = 1 for Conv2d layers 2nd, 4rth, and 5th conv layers\n",
        "      nn.init.constant_(self.net[4].bias, 1)\n",
        "      nn.init.constant_(self.net[10].bias, 1)\n",
        "      nn.init.constant_(self.net[12].bias, 1)\n",
        "\n",
        "  def forward(self, x):\n",
        "    \"\"\"\n",
        "    Pass the input through the net.\n",
        "\n",
        "    Args:\n",
        "        x (Tensor): input tensor\n",
        "\n",
        "    Returns:\n",
        "        output (Tensor): output tensor\n",
        "    \"\"\"\n",
        "    x = self.net(x)\n",
        "    x = x.view(-1, 256 * 6 * 6) # reduce the dimensions for linear layer input\n",
        "    return self.classifier(x)\n",
        "\n",
        "device = \"cuda\" if torch.cuda.is_available() else \"cpu\"\n",
        "model = AlexNet(num_classes = 1000).to(device)\n",
        "x = torch.randn(1, 3, 227, 227).to(device)\n",
        "print(model(x).shape)\n",
        "\n",
        "\n",
        "if __name__ == '__name__':\n",
        "  print('AlexNet created')\n",
        "  # print the seed value\n",
        "  seed = torch.initial_seed()\n",
        "  print('Used seed : {}'.format(seed))\n",
        "\n",
        "\n",
        "  tbwriter = SummaryWriter(log_dir=LOG_DIR)\n",
        "  print('TensorboardX summary writer created')\n",
        "\n",
        "  # create model\n",
        "  alexnet = AlexNet(num_classes=NUM_CLASSES).to(device)\n",
        "  # train on multiple GPUs\n",
        "  alexnet = torch.nn.parallel.DataParallel(alexnet, device_ids=DEVICE_IDS)\n",
        "  print(alexnet)\n",
        "  print('AlexNet created')"
      ],
      "metadata": {
        "colab": {
          "base_uri": "https://localhost:8080/"
        },
        "id": "kvtJCEE9qUY6",
        "outputId": "c3e9dfa7-b0bf-4e84-9023-746a7d44befd"
      },
      "execution_count": null,
      "outputs": [
        {
          "output_type": "stream",
          "name": "stdout",
          "text": [
            "torch.Size([1, 1000])\n"
          ]
        }
      ]
    }
  ]
}
