{
  "nbformat": 4,
  "nbformat_minor": 0,
  "metadata": {
    "colab": {
      "provenance": []
    },
    "kernelspec": {
      "name": "python3",
      "display_name": "Python 3"
    },
    "language_info": {
      "name": "python"
    }
  },
  "cells": [
    {
      "cell_type": "code",
      "execution_count": null,
      "metadata": {
        "colab": {
          "base_uri": "https://localhost:8080/"
        },
        "id": "bA4iTkN1PP5i",
        "outputId": "f64e9d14-8763-4adc-a1ac-a9e8fddfe1a9"
      },
      "outputs": [
        {
          "output_type": "stream",
          "name": "stdout",
          "text": [
            "torch.Size([64, 6, 28, 28])\n",
            "torch.Size([64, 16, 10, 10])\n",
            "torch.Size([64, 120, 1, 1])\n",
            "torch.Size([64, 10])\n",
            "torch.Size([64, 10])\n"
          ]
        }
      ],
      "source": [
        "import torch\n",
        "from torch import nn\n",
        "\n",
        "#LeNet5 Architecture\n",
        "#7 layers : 3 Conv layers and 2 Fully connected layers, ReLU and Max pool is applied for every conv layer\n",
        "# 1x 32 x 32 ---kernel : (5, 5), s=1, p=0 --> (5x5), s=1, p=0 --> avg pool s=2, p=0\n",
        "# Conv 5 x 5 to 120 channels x linear 120 x linear 84 x linear 10\n",
        "\n",
        "class LeNet(nn.Module):\n",
        "  def __init__(self):\n",
        "    super(LeNet, self).__init__()\n",
        "    self.relu = nn.ReLU()\n",
        "    self.pool = nn.AvgPool2d(kernel_size=(2,2),stride=(2,2))\n",
        "    self.conv1 = nn.Conv2d(in_channels=1, out_channels=6, kernel_size=(5,5), stride=(1,1),padding=(0,0))\n",
        "    self.conv2 = nn.Conv2d(in_channels=6, out_channels=16, kernel_size=(5,5), stride=(1,1),padding=(0,0))\n",
        "    self.conv3 = nn.Conv2d(in_channels=16, out_channels=120, kernel_size=(5,5), stride=(1,1),padding=(0,0))\n",
        "    self.linear1 = nn.Linear(in_features=120, out_features=84)\n",
        "    self.linear2 = nn.Linear(in_features=84, out_features=10)\n",
        "\n",
        "  def forward(self, x):\n",
        "    x = self.relu(self.conv1(x))\n",
        "    print(x.shape)\n",
        "    x = self.pool(x)\n",
        "    x = self.relu(self.conv2(x))\n",
        "    print(x.shape)\n",
        "    x = self.pool(x)\n",
        "    x = self.relu(self.conv3(x)) ## output after conv3 : num_samples(batch_size)x 120 x 1 x 1 ---> to num_examples X 120\n",
        "    print(x.shape)\n",
        "    x = x.reshape(x.shape[0], -1)\n",
        "    x = self.relu(self.linear1(x))\n",
        "    x = self.linear2(x)\n",
        "    print(x.shape)\n",
        "    return x\n",
        "\n",
        "\n",
        "x = torch.randn(64, 1, 32, 32)  #for 64 images, the model predicts each label\n",
        "model = LeNet()\n",
        "print(model(x).shape)"
      ]
    }
  ]
}
